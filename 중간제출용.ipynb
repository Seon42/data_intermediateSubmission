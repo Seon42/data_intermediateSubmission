{
  "nbformat": 4,
  "nbformat_minor": 0,
  "metadata": {
    "colab": {
      "name": "중간제출용.ipynb",
      "provenance": [],
      "authorship_tag": "ABX9TyPhX49b0tArXxfyOFtNPYde",
      "include_colab_link": true
    },
    "kernelspec": {
      "name": "python3",
      "display_name": "Python 3"
    },
    "language_info": {
      "name": "python"
    }
  },
  "cells": [
    {
      "cell_type": "markdown",
      "metadata": {
        "id": "view-in-github",
        "colab_type": "text"
      },
      "source": [
        "<a href=\"https://colab.research.google.com/github/Seon42/data_intermediateSubmission/blob/main/%EC%A4%91%EA%B0%84%EC%A0%9C%EC%B6%9C%EC%9A%A9.ipynb\" target=\"_parent\"><img src=\"https://colab.research.google.com/assets/colab-badge.svg\" alt=\"Open In Colab\"/></a>"
      ]
    },
    {
      "cell_type": "code",
      "metadata": {
        "id": "mdiSYacfbmfV"
      },
      "source": [
        "\n",
        "import numpy as np\n",
        "import pandas as pd\n",
        "from pandas import DataFrame as df\n",
        "import matplotlib.pyplot as plt\n",
        "\n",
        "# google spread sheet \n",
        "import gspread as gs\n",
        "\n",
        "\n",
        "# google spread sheet link\n",
        "# https://docs.google.com/spreadsheets/d/1FL4nE2tqi4NXjGaFhsGchu3iu1PET4BU6JAFxcf793k/edit?usp=sharing"
      ],
      "execution_count": 1,
      "outputs": []
    },
    {
      "cell_type": "markdown",
      "metadata": {
        "id": "WDzwL-HtbuKZ"
      },
      "source": [
        "# **Data**"
      ]
    },
    {
      "cell_type": "code",
      "metadata": {
        "id": "KUK4W3pmbyMW"
      },
      "source": [
        "# 2019, 2020 공연 실적 data\n",
        "gsheet_name = \"PerformanceData_19_20\"\n",
        "gsheet_id = \"1FL4nE2tqi4NXjGaFhsGchu3iu1PET4BU6JAFxcf793k\"\n",
        "gsheet_url_perform = \"https://docs.google.com/spreadsheets/d/{}/gviz/tq?tqx=out:csv&sheet={}\".format(gsheet_id, gsheet_name)\n",
        "\n",
        "# 2020 중계 data\n",
        "gsheet_name = \"StrimingData_2020\"\n",
        "gsheet_id = \"1FL4nE2tqi4NXjGaFhsGchu3iu1PET4BU6JAFxcf793k\"\n",
        "gsheet_url_strim20 = \"https://docs.google.com/spreadsheets/d/{}/gviz/tq?tqx=out:csv&sheet={}\".format(gsheet_id, gsheet_name)\n",
        "\n",
        "# 2021 중계 data\n",
        "gsheet_name = \"StrimingData_2021\"\n",
        "gsheet_id = \"1FL4nE2tqi4NXjGaFhsGchu3iu1PET4BU6JAFxcf793k\"\n",
        "gsheet_url_strim21 = \"https://docs.google.com/spreadsheets/d/{}/gviz/tq?tqx=out:csv&sheet={}\".format(gsheet_id, gsheet_name)\n",
        "\n",
        "# 2020 공연 취소/재예매 data\n",
        "gsheet_name = \"TicketData_2020\"\n",
        "gsheet_id = \"1FL4nE2tqi4NXjGaFhsGchu3iu1PET4BU6JAFxcf793k\"\n",
        "gsheet_url_tic20 = \"https://docs.google.com/spreadsheets/d/{}/gviz/tq?tqx=out:csv&sheet={}\".format(gsheet_id, gsheet_name)\n",
        "\n",
        "# 2021 공연 취소/재예매 data\n",
        "gsheet_name = \"TicketData_2021\"\n",
        "gsheet_id = \"1FL4nE2tqi4NXjGaFhsGchu3iu1PET4BU6JAFxcf793k\"\n",
        "gsheet_url_tic21 = \"https://docs.google.com/spreadsheets/d/{}/gviz/tq?tqx=out:csv&sheet={}\".format(gsheet_id, gsheet_name)\n",
        "\n",
        "# 동일 극장의 사회적 거리 두기 단계별 data\n",
        "gsheet_name = \"StepData\"\n",
        "gsheet_id = \"1FL4nE2tqi4NXjGaFhsGchu3iu1PET4BU6JAFxcf793k\"\n",
        "gsheet_url_step = \"https://docs.google.com/spreadsheets/d/{}/gviz/tq?tqx=out:csv&sheet={}\".format(gsheet_id, gsheet_name)\n"
      ],
      "execution_count": 2,
      "outputs": []
    },
    {
      "cell_type": "markdown",
      "metadata": {
        "id": "xX4-XbrYb1md"
      },
      "source": [
        "# **1. 장르별 공연 실적**"
      ]
    },
    {
      "cell_type": "code",
      "metadata": {
        "id": "L-VO9t5wb0TE"
      },
      "source": [
        ""
      ],
      "execution_count": null,
      "outputs": []
    },
    {
      "cell_type": "markdown",
      "metadata": {
        "id": "bxYkGbgXb56F"
      },
      "source": [
        "# **2. 공연 중계**"
      ]
    },
    {
      "cell_type": "code",
      "metadata": {
        "colab": {
          "base_uri": "https://localhost:8080/",
          "height": 424
        },
        "id": "PtUW266hb87G",
        "outputId": "f2fa179d-eaf2-49ea-c161-31f786abcd3c"
      },
      "source": [
        "# 2020 중계 DF\n",
        "df_2020 = pd.read_csv(gsheet_url_strim20)\n",
        "df_2020"
      ],
      "execution_count": 3,
      "outputs": [
        {
          "output_type": "execute_result",
          "data": {
            "text/html": [
              "<div>\n",
              "<style scoped>\n",
              "    .dataframe tbody tr th:only-of-type {\n",
              "        vertical-align: middle;\n",
              "    }\n",
              "\n",
              "    .dataframe tbody tr th {\n",
              "        vertical-align: top;\n",
              "    }\n",
              "\n",
              "    .dataframe thead th {\n",
              "        text-align: right;\n",
              "    }\n",
              "</style>\n",
              "<table border=\"1\" class=\"dataframe\">\n",
              "  <thead>\n",
              "    <tr style=\"text-align: right;\">\n",
              "      <th></th>\n",
              "      <th>Date</th>\n",
              "      <th>Day</th>\n",
              "      <th>Genre</th>\n",
              "      <th>Title</th>\n",
              "      <th>Price</th>\n",
              "      <th>Platform</th>\n",
              "    </tr>\n",
              "  </thead>\n",
              "  <tbody>\n",
              "    <tr>\n",
              "      <th>0</th>\n",
              "      <td>2020-01-29</td>\n",
              "      <td>수</td>\n",
              "      <td>뮤지컬</td>\n",
              "      <td>앤서니 브라운 뮤지컬 비바 프렌드</td>\n",
              "      <td>무료</td>\n",
              "      <td>네이버</td>\n",
              "    </tr>\n",
              "    <tr>\n",
              "      <th>1</th>\n",
              "      <td>2020-02-02</td>\n",
              "      <td>일</td>\n",
              "      <td>뮤지컬</td>\n",
              "      <td>줄리 앤 폴</td>\n",
              "      <td>무료</td>\n",
              "      <td>네이버</td>\n",
              "    </tr>\n",
              "    <tr>\n",
              "      <th>2</th>\n",
              "      <td>2020-02-09</td>\n",
              "      <td>일</td>\n",
              "      <td>뮤지컬</td>\n",
              "      <td>여명의 눈동자</td>\n",
              "      <td>무료</td>\n",
              "      <td>네이버</td>\n",
              "    </tr>\n",
              "    <tr>\n",
              "      <th>3</th>\n",
              "      <td>2020-02-09</td>\n",
              "      <td>수</td>\n",
              "      <td>뮤지컬</td>\n",
              "      <td>사랑은 비를 타고</td>\n",
              "      <td>무료</td>\n",
              "      <td>네이버</td>\n",
              "    </tr>\n",
              "    <tr>\n",
              "      <th>4</th>\n",
              "      <td>2020-02-25</td>\n",
              "      <td>화</td>\n",
              "      <td>연극</td>\n",
              "      <td>마트료시카</td>\n",
              "      <td>무료</td>\n",
              "      <td>네이버</td>\n",
              "    </tr>\n",
              "    <tr>\n",
              "      <th>...</th>\n",
              "      <td>...</td>\n",
              "      <td>...</td>\n",
              "      <td>...</td>\n",
              "      <td>...</td>\n",
              "      <td>...</td>\n",
              "      <td>...</td>\n",
              "    </tr>\n",
              "    <tr>\n",
              "      <th>98</th>\n",
              "      <td>2020-12-26</td>\n",
              "      <td>토</td>\n",
              "      <td>뮤지컬</td>\n",
              "      <td>몬테크리스토</td>\n",
              "      <td>유료</td>\n",
              "      <td>네이버</td>\n",
              "    </tr>\n",
              "    <tr>\n",
              "      <th>99</th>\n",
              "      <td>2020-12-27</td>\n",
              "      <td>일</td>\n",
              "      <td>웹뮤지컬</td>\n",
              "      <td>킬러파티</td>\n",
              "      <td>유료</td>\n",
              "      <td>네이버</td>\n",
              "    </tr>\n",
              "    <tr>\n",
              "      <th>100</th>\n",
              "      <td>2020-12-28</td>\n",
              "      <td>월</td>\n",
              "      <td>뮤지컬</td>\n",
              "      <td>개와 고양이의 시간</td>\n",
              "      <td>유료</td>\n",
              "      <td>빵야TV</td>\n",
              "    </tr>\n",
              "    <tr>\n",
              "      <th>101</th>\n",
              "      <td>2020-12-28</td>\n",
              "      <td>월</td>\n",
              "      <td>뮤지컬</td>\n",
              "      <td>베르테르</td>\n",
              "      <td>유료</td>\n",
              "      <td>네이버</td>\n",
              "    </tr>\n",
              "    <tr>\n",
              "      <th>102</th>\n",
              "      <td>2020-12-30</td>\n",
              "      <td>수</td>\n",
              "      <td>뮤지컬</td>\n",
              "      <td>시데레우스</td>\n",
              "      <td>유료</td>\n",
              "      <td>네이버</td>\n",
              "    </tr>\n",
              "  </tbody>\n",
              "</table>\n",
              "<p>103 rows × 6 columns</p>\n",
              "</div>"
            ],
            "text/plain": [
              "           Date Day Genre               Title Price Platform\n",
              "0    2020-01-29   수   뮤지컬  앤서니 브라운 뮤지컬 비바 프렌드    무료      네이버\n",
              "1    2020-02-02   일   뮤지컬              줄리 앤 폴    무료      네이버\n",
              "2    2020-02-09   일   뮤지컬             여명의 눈동자    무료      네이버\n",
              "3    2020-02-09   수   뮤지컬           사랑은 비를 타고    무료      네이버\n",
              "4    2020-02-25   화    연극               마트료시카    무료      네이버\n",
              "..          ...  ..   ...                 ...   ...      ...\n",
              "98   2020-12-26   토   뮤지컬              몬테크리스토    유료      네이버\n",
              "99   2020-12-27   일  웹뮤지컬                킬러파티    유료      네이버\n",
              "100  2020-12-28   월   뮤지컬          개와 고양이의 시간    유료     빵야TV\n",
              "101  2020-12-28   월   뮤지컬                베르테르    유료      네이버\n",
              "102  2020-12-30   수   뮤지컬               시데레우스    유료      네이버\n",
              "\n",
              "[103 rows x 6 columns]"
            ]
          },
          "metadata": {},
          "execution_count": 3
        }
      ]
    },
    {
      "cell_type": "code",
      "metadata": {
        "colab": {
          "base_uri": "https://localhost:8080/",
          "height": 424
        },
        "id": "cJCpD0tdcS9z",
        "outputId": "cff62e79-597b-4dc3-a904-50e3e42fbae1"
      },
      "source": [
        "# 2021 중계 DF\n",
        "df_2021 = pd.read_csv(gsheet_url_strim21)\n",
        "df_2021"
      ],
      "execution_count": 4,
      "outputs": [
        {
          "output_type": "execute_result",
          "data": {
            "text/html": [
              "<div>\n",
              "<style scoped>\n",
              "    .dataframe tbody tr th:only-of-type {\n",
              "        vertical-align: middle;\n",
              "    }\n",
              "\n",
              "    .dataframe tbody tr th {\n",
              "        vertical-align: top;\n",
              "    }\n",
              "\n",
              "    .dataframe thead th {\n",
              "        text-align: right;\n",
              "    }\n",
              "</style>\n",
              "<table border=\"1\" class=\"dataframe\">\n",
              "  <thead>\n",
              "    <tr style=\"text-align: right;\">\n",
              "      <th></th>\n",
              "      <th>Date</th>\n",
              "      <th>Day</th>\n",
              "      <th>Genre</th>\n",
              "      <th>Title</th>\n",
              "      <th>Price</th>\n",
              "      <th>Platform</th>\n",
              "    </tr>\n",
              "  </thead>\n",
              "  <tbody>\n",
              "    <tr>\n",
              "      <th>0</th>\n",
              "      <td>2021-01-04</td>\n",
              "      <td>월</td>\n",
              "      <td>뮤지컬</td>\n",
              "      <td>베르테르</td>\n",
              "      <td>유료</td>\n",
              "      <td>네이버</td>\n",
              "    </tr>\n",
              "    <tr>\n",
              "      <th>1</th>\n",
              "      <td>2021-01-08</td>\n",
              "      <td>금</td>\n",
              "      <td>뮤지컬</td>\n",
              "      <td>젠틀맨스가이드 : 사랑과 살인편</td>\n",
              "      <td>유료</td>\n",
              "      <td>인터파크</td>\n",
              "    </tr>\n",
              "    <tr>\n",
              "      <th>2</th>\n",
              "      <td>2021-01-09</td>\n",
              "      <td>토</td>\n",
              "      <td>뮤지컬</td>\n",
              "      <td>젠틀맨스가이드 : 사랑과 살인편</td>\n",
              "      <td>유료</td>\n",
              "      <td>인터파크</td>\n",
              "    </tr>\n",
              "    <tr>\n",
              "      <th>3</th>\n",
              "      <td>2021-01-09</td>\n",
              "      <td>토</td>\n",
              "      <td>뮤지컬</td>\n",
              "      <td>젠틀맨스가이드 : 사랑과 살인편</td>\n",
              "      <td>유료</td>\n",
              "      <td>인터파크</td>\n",
              "    </tr>\n",
              "    <tr>\n",
              "      <th>4</th>\n",
              "      <td>2021-01-10</td>\n",
              "      <td>일</td>\n",
              "      <td>뮤지컬</td>\n",
              "      <td>젠틀맨스가이드 : 사랑과 살인편</td>\n",
              "      <td>유료</td>\n",
              "      <td>인터파크</td>\n",
              "    </tr>\n",
              "    <tr>\n",
              "      <th>...</th>\n",
              "      <td>...</td>\n",
              "      <td>...</td>\n",
              "      <td>...</td>\n",
              "      <td>...</td>\n",
              "      <td>...</td>\n",
              "      <td>...</td>\n",
              "    </tr>\n",
              "    <tr>\n",
              "      <th>249</th>\n",
              "      <td>2021-12-23</td>\n",
              "      <td>목</td>\n",
              "      <td>연극</td>\n",
              "      <td>나무의 아이</td>\n",
              "      <td>무료</td>\n",
              "      <td>네이버</td>\n",
              "    </tr>\n",
              "    <tr>\n",
              "      <th>250</th>\n",
              "      <td>2021-12-24</td>\n",
              "      <td>금</td>\n",
              "      <td>연극</td>\n",
              "      <td>작은 아씨들</td>\n",
              "      <td>유료</td>\n",
              "      <td>네이버</td>\n",
              "    </tr>\n",
              "    <tr>\n",
              "      <th>251</th>\n",
              "      <td>2021-12-25</td>\n",
              "      <td>토</td>\n",
              "      <td>연극</td>\n",
              "      <td>작은 아씨들</td>\n",
              "      <td>유료</td>\n",
              "      <td>네이버</td>\n",
              "    </tr>\n",
              "    <tr>\n",
              "      <th>252</th>\n",
              "      <td>2021-12-26</td>\n",
              "      <td>일</td>\n",
              "      <td>연극</td>\n",
              "      <td>작은 아씨들</td>\n",
              "      <td>유료</td>\n",
              "      <td>네이버</td>\n",
              "    </tr>\n",
              "    <tr>\n",
              "      <th>253</th>\n",
              "      <td>2021-12-28</td>\n",
              "      <td>화</td>\n",
              "      <td>연극</td>\n",
              "      <td>죄와벌 : 파란 관성의 시대</td>\n",
              "      <td>유료?</td>\n",
              "      <td>네이버</td>\n",
              "    </tr>\n",
              "  </tbody>\n",
              "</table>\n",
              "<p>254 rows × 6 columns</p>\n",
              "</div>"
            ],
            "text/plain": [
              "           Date Day Genre              Title Price Platform\n",
              "0    2021-01-04   월   뮤지컬               베르테르    유료      네이버\n",
              "1    2021-01-08   금   뮤지컬  젠틀맨스가이드 : 사랑과 살인편    유료     인터파크\n",
              "2    2021-01-09   토   뮤지컬  젠틀맨스가이드 : 사랑과 살인편    유료     인터파크\n",
              "3    2021-01-09   토   뮤지컬  젠틀맨스가이드 : 사랑과 살인편    유료     인터파크\n",
              "4    2021-01-10   일   뮤지컬  젠틀맨스가이드 : 사랑과 살인편    유료     인터파크\n",
              "..          ...  ..   ...                ...   ...      ...\n",
              "249  2021-12-23   목    연극             나무의 아이    무료      네이버\n",
              "250  2021-12-24   금    연극             작은 아씨들    유료      네이버\n",
              "251  2021-12-25   토    연극             작은 아씨들    유료      네이버\n",
              "252  2021-12-26   일   연극              작은 아씨들    유료      네이버\n",
              "253  2021-12-28   화    연극    죄와벌 : 파란 관성의 시대   유료?      네이버\n",
              "\n",
              "[254 rows x 6 columns]"
            ]
          },
          "metadata": {},
          "execution_count": 4
        }
      ]
    },
    {
      "cell_type": "code",
      "metadata": {
        "colab": {
          "base_uri": "https://localhost:8080/",
          "height": 349
        },
        "id": "wQ63Fen2cVtR",
        "outputId": "8a55dc58-9c0a-4e46-f7a5-33cf005de42d"
      },
      "source": [
        "# 장르\n",
        "\n",
        "play = ['연극']\n",
        "musical = ['뮤지컬']\n",
        "\n",
        "play20 = df_2020[df_2020['Genre'].isin(play)]\n",
        "play21 = df_2021[df_2021['Genre'].isin(play)]\n",
        "musical20 = df_2020[df_2020['Genre'].isin(musical)]\n",
        "musical21 = df_2020[df_2021['Genre'].isin(musical)]\n",
        "\n",
        "play_count = [play20.shape[0], play21.shape[0]]\n",
        "musical_count = [musical20.shape[0], musical21.shape[0]]\n",
        "\n",
        "genre = ['Play', 'Musical']\n",
        "\n",
        "plt.subplot(1, 3, 1)\n",
        "plt.bar(genre, play_count, color='blue')\n",
        "plt.xlabel(\"Genre\")\n",
        "plt.ylabel(\"Striming frequency\")\n",
        "plt.title(\"2020-2021 Strimimng Frequency(Play)\")\n",
        "\n",
        "plt.subplot(1, 3, 3)\n",
        "plt.bar(genre, musical_count, color='green')\n",
        "plt.xlabel(\"Genre\")\n",
        "plt.ylabel(\"Striming frequency\")\n",
        "plt.title(\"2020-2021 Strimimng Frequency(musical)\")\n"
      ],
      "execution_count": 9,
      "outputs": [
        {
          "output_type": "stream",
          "name": "stderr",
          "text": [
            "/usr/local/lib/python3.7/dist-packages/ipykernel_launcher.py:8: UserWarning: Boolean Series key will be reindexed to match DataFrame index.\n",
            "  \n"
          ]
        },
        {
          "output_type": "execute_result",
          "data": {
            "text/plain": [
              "Text(0.5, 1.0, '2020-2021 Strimimng Frequency(musical)')"
            ]
          },
          "metadata": {},
          "execution_count": 9
        },
        {
          "output_type": "display_data",
          "data": {
            "image/png": "[encoded data removed]",
            "text/plain": [
              "<Figure size 432x288 with 2 Axes>"
            ]
          },
          "metadata": {
            "needs_background": "light"
          }
        }
      ]
    },
    {
      "cell_type": "code",
      "metadata": {
        "colab": {
          "base_uri": "https://localhost:8080/",
          "height": 313
        },
        "id": "UtNVvz_RcXK2",
        "outputId": "0816d4e6-378a-4339-f453-87daaa36dfcd"
      },
      "source": [
        "# 월\n",
        "\n",
        "dateIndex = df_2020.set_index('Date')\n",
        "dateIndex2 = df_2021.set_index('Date')\n",
        "\n",
        "Jan_20 = dateIndex['2020-01':'2020-02']\n",
        "Feb_20 = dateIndex['2020-02':'2020-03']\n",
        "Mar_20 = dateIndex['2020-03':'2020-04']\n",
        "Apr_20 = dateIndex['2020-04':'2020-05']\n",
        "May_20 = dateIndex['2020-05':'2020-06']\n",
        "Jun_20 = dateIndex['2020-06':'2020-07']\n",
        "Jul_20 = dateIndex['2020-07':'2020-08']\n",
        "Aug_20 = dateIndex['2020-08':'2020-09']\n",
        "Sep_20 = dateIndex['2020-09':'2020-10']\n",
        "Oct_20 = dateIndex['2020-10':'2020-11']\n",
        "Nov_20 = dateIndex['2020-11':'2020-12']\n",
        "Dec_20 = dateIndex['2020-12':]\n",
        "\n",
        "Jan_21 = dateIndex2['2021-01':'2021-02']\n",
        "Feb_21 = dateIndex2['2021-02':'2021-03']\n",
        "Mar_21 = dateIndex2['2021-03':'2021-04']\n",
        "Apr_21 = dateIndex2['2021-04':'2021-05']\n",
        "May_21 = dateIndex2['2021-05':'2021-06']\n",
        "Jun_21 = dateIndex2['2021-06':'2021-07']\n",
        "Jul_21 = dateIndex2['2021-07':'2021-08']\n",
        "Aug_21 = dateIndex2['2021-08':'2021-09']\n",
        "Sep_21 = dateIndex2['2021-09':'2021-10']\n",
        "Oct_21 = dateIndex2['2021-10':'2021-11']\n",
        "Nov_21 = dateIndex2['2021-11':'2021-12']\n",
        "Dec_21 = dateIndex2['2021-12':]\n",
        "\n",
        "months = ['Jan', 'Feb', 'Mar', 'Apr', 'May', 'Jun', 'Jul', 'Aug', 'Sep', 'Oct', 'Nov', 'Dec']\n",
        "\n",
        "# 2020 중계\n",
        "count_monthData20 = [Jan_20.shape[0],Feb_20.shape[0],Mar_20.shape[0]\n",
        "                         ,Apr_20.shape[0],May_20.shape[0],Jun_20.shape[0]\n",
        "                         ,Jul_20.shape[0],Aug_20.shape[0],Sep_20.shape[0]\n",
        "                         ,Oct_20.shape[0],Nov_20.shape[0],Dec_20.shape[0]]\n",
        "\n",
        "# 2021 중계\n",
        "count_monthData21 = [Jan_21.shape[0],Feb_21.shape[0],Mar_21.shape[0]\n",
        "                         ,Apr_21.shape[0],May_21.shape[0],Jun_21.shape[0]\n",
        "                         ,Jul_21.shape[0],Aug_21.shape[0],Sep_21.shape[0]\n",
        "                         ,Oct_21.shape[0],Nov_21.shape[0],Dec_21.shape[0]]\n",
        "\n",
        "ax1 = plt.subplot(2, 1, 1)\n",
        "plt.plot(months, count_monthData20, color='blue')\n",
        "plt.xticks(visible=False)\n",
        "plt.ylabel(\"Striming frequency\")\n",
        "plt.title(\"2020 Strimimng Frequency\")\n",
        "\n",
        "plt.subplot(2, 1, 2, sharex=ax1)\n",
        "plt.plot(months, count_monthData21, color='green')\n",
        "plt.xlabel(\"Months\")\n",
        "plt.ylabel(\"Striming frequency\")\n",
        "plt.title(\"2021 Strimimng Frequency\")\n"
      ],
      "execution_count": 11,
      "outputs": [
        {
          "output_type": "execute_result",
          "data": {
            "text/plain": [
              "Text(0.5, 1.0, '2021 Strimimng Frequency')"
            ]
          },
          "metadata": {},
          "execution_count": 11
        },
        {
          "output_type": "display_data",
          "data": {
            "image/png": "[encoded data removed]",
            "text/plain": [
              "<Figure size 432x288 with 2 Axes>"
            ]
          },
          "metadata": {
            "needs_background": "light"
          }
        }
      ]
    },
    {
      "cell_type": "code",
      "metadata": {
        "id": "evIHb4WMdSYI"
      },
      "source": [
        "# 요일"
      ],
      "execution_count": null,
      "outputs": []
    },
    {
      "cell_type": "code",
      "metadata": {
        "id": "zkr8-hUndSGI"
      },
      "source": [
        "# 유/무료"
      ],
      "execution_count": null,
      "outputs": []
    },
    {
      "cell_type": "code",
      "metadata": {
        "id": "SfxDh34CdVCz"
      },
      "source": [
        "# "
      ],
      "execution_count": null,
      "outputs": []
    },
    {
      "cell_type": "markdown",
      "metadata": {
        "id": "kiqkZyPpb9Sp"
      },
      "source": [
        "# **3. COVID-19로 인한 공연 취소/재예매**"
      ]
    },
    {
      "cell_type": "code",
      "metadata": {
        "id": "mb4nC_85cCId"
      },
      "source": [
        ""
      ],
      "execution_count": null,
      "outputs": []
    },
    {
      "cell_type": "markdown",
      "metadata": {
        "id": "jRDO2wXZcCdf"
      },
      "source": [
        "# **4. 동일 극장의 사회적 거리 두기 단계별 좌석 수, 예상 수익 비교**"
      ]
    },
    {
      "cell_type": "code",
      "metadata": {
        "id": "FFfN4djxcGla"
      },
      "source": [
        ""
      ],
      "execution_count": null,
      "outputs": []
    },
    {
      "cell_type": "markdown",
      "metadata": {
        "id": "hHLJ3L7TcG4S"
      },
      "source": [
        "# **5.**"
      ]
    },
    {
      "cell_type": "code",
      "metadata": {
        "id": "2aS40cRNcLu-"
      },
      "source": [
        ""
      ],
      "execution_count": null,
      "outputs": []
    }
  ]
}